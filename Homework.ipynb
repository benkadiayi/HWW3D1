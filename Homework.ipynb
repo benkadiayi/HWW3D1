{
 "cells": [
  {
   "cell_type": "code",
   "execution_count": 62,
   "id": "7cf3fcb6",
   "metadata": {},
   "outputs": [
    {
     "name": "stdout",
     "output_type": "stream",
     "text": [
      "['Abraham Lincoln\\n', 'Andrew P Garfield\\n', 'Connor Milliken\\n', 'Jordan Alexander Williams\\n', 'Madonna\\n', 'programming is cool\\n']\n",
      "\n",
      " Abraham   Lincoln\n",
      "\n",
      " Andrew P Garfield\n",
      "\n",
      " Connor   Milliken\n",
      "\n",
      " Jordan Alexander Williams\n",
      "None\n",
      "None\n"
     ]
    }
   ],
   "source": [
    "import re\n",
    "with open(\"regex_test.txt\")as f:\n",
    "    data = f.readlines()\n",
    "    print(data)\n",
    "pattern = re.compile ('([A-Z][a-z]+)\\s*([A-Za-z]+|\\s)\\s*([A-Z][a-z]+)')\n",
    "\n",
    "for person in data:\n",
    "    match = pattern.search(person)\n",
    "    \n",
    "    if match:\n",
    "        print('\\n', f\"{match.group(1)} {match.group(2)} {match.group(3)}\")\n",
    "    else:\n",
    "        print('None')"
   ]
  }
 ],
 "metadata": {
  "kernelspec": {
   "display_name": "Python 3",
   "language": "python",
   "name": "python3"
  },
  "language_info": {
   "codemirror_mode": {
    "name": "ipython",
    "version": 3
   },
   "file_extension": ".py",
   "mimetype": "text/x-python",
   "name": "python",
   "nbconvert_exporter": "python",
   "pygments_lexer": "ipython3",
   "version": "3.8.8"
  }
 },
 "nbformat": 4,
 "nbformat_minor": 5
}
